import cv2
import glob
import os
import imutils
import numpy
from matplotlib import pyplot as plt
dirname=r"C:\Users\inspiron\Desktop\Train1\NBio\*.jpg"
path=r"smart-garbage-classifier"
k=0;
for i in glob.glob(dirname):
    image=cv2.imread(i)
    #cv2.imshow("image",image)
    for angle in range(0, 180, 10):
        blurred_image = cv2.GaussianBlur(image, (7,7), 0)
        rotated=imutils.rotate(blurred_image, angle)
        #cv2.imshow("image",rotated)
        #cv2.waitKey()
        #cv2.imwrite('path/Image.jpg', rotated)
        cv2.imwrite(os.path.join(path , "Not."+str(k)+".jpg"), rotated)
        k=k+1
