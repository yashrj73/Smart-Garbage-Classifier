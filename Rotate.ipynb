{
 "cells": [
  {
   "cell_type": "code",
   "execution_count": 30,
   "metadata": {},
   "outputs": [],
   "source": [
    "import cv2\n",
    "import glob\n",
    "import os\n",
    "import imutils\n",
    "import numpy\n",
    "from matplotlib import pyplot as plt\n",
    "dirname=r\"C:\\Users\\inspiron\\Desktop\\Train1\\NBio\\*.jpg\"\n",
    "path=r\"C:\\Users\\inspiron\\Desktop\\New folder (2)\""
   ]
  },
  {
   "cell_type": "code",
   "execution_count": 31,
   "metadata": {},
   "outputs": [],
   "source": [
    "k=0;\n",
    "for i in glob.glob(dirname):\n",
    "    image=cv2.imread(i)\n",
    "    #cv2.imshow(\"image\",image)\n",
    "    for angle in range(0, 180, 10):\n",
    "        blurred_image = cv2.GaussianBlur(image, (7,7), 0)\n",
    "        rotated=imutils.rotate(blurred_image, angle)\n",
    "        #cv2.imshow(\"image\",rotated)\n",
    "        #cv2.waitKey()\n",
    "        #cv2.imwrite('path/Image.jpg', rotated)\n",
    "        cv2.imwrite(os.path.join(path , \"Not.\"+str(k)+\".jpg\"), rotated)\n",
    "        k=k+1"
   ]
  },
  {
   "cell_type": "code",
   "execution_count": 26,
   "metadata": {},
   "outputs": [],
   "source": [
    "    "
   ]
  },
  {
   "cell_type": "code",
   "execution_count": 23,
   "metadata": {},
   "outputs": [
    {
     "data": {
      "text/plain": [
       "True"
      ]
     },
     "execution_count": 23,
     "metadata": {},
     "output_type": "execute_result"
    }
   ],
   "source": [
    "        "
   ]
  },
  {
   "cell_type": "code",
   "execution_count": null,
   "metadata": {},
   "outputs": [],
   "source": []
  },
  {
   "cell_type": "code",
   "execution_count": null,
   "metadata": {},
   "outputs": [],
   "source": []
  },
  {
   "cell_type": "code",
   "execution_count": null,
   "metadata": {},
   "outputs": [],
   "source": []
  }
 ],
 "metadata": {
  "kernelspec": {
   "display_name": "Python 3",
   "language": "python",
   "name": "python3"
  },
  "language_info": {
   "codemirror_mode": {
    "name": "ipython",
    "version": 3
   },
   "file_extension": ".py",
   "mimetype": "text/x-python",
   "name": "python",
   "nbconvert_exporter": "python",
   "pygments_lexer": "ipython3",
   "version": "3.6.3"
  }
 },
 "nbformat": 4,
 "nbformat_minor": 2
}
